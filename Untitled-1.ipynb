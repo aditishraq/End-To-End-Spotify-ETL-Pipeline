{
 "cells": [
  {
   "cell_type": "code",
   "execution_count": 15,
   "metadata": {},
   "outputs": [
    {
     "name": "stdout",
     "output_type": "stream",
     "text": [
      "Requirement already satisfied: spotipy in ./miniconda3/lib/python3.10/site-packages (2.23.0)\n",
      "Requirement already satisfied: requests>=2.25.0 in ./miniconda3/lib/python3.10/site-packages (from spotipy) (2.28.1)\n",
      "Requirement already satisfied: six>=1.15.0 in ./miniconda3/lib/python3.10/site-packages (from spotipy) (1.16.0)\n",
      "Requirement already satisfied: urllib3>=1.26.0 in ./miniconda3/lib/python3.10/site-packages (from spotipy) (1.26.14)\n",
      "Requirement already satisfied: redis>=3.5.3 in ./miniconda3/lib/python3.10/site-packages (from spotipy) (5.0.1)\n",
      "Requirement already satisfied: async-timeout>=4.0.2 in ./miniconda3/lib/python3.10/site-packages (from redis>=3.5.3->spotipy) (4.0.3)\n",
      "Requirement already satisfied: certifi>=2017.4.17 in ./miniconda3/lib/python3.10/site-packages (from requests>=2.25.0->spotipy) (2022.12.7)\n",
      "Requirement already satisfied: charset-normalizer<3,>=2 in ./miniconda3/lib/python3.10/site-packages (from requests>=2.25.0->spotipy) (2.0.4)\n",
      "Requirement already satisfied: idna<4,>=2.5 in ./miniconda3/lib/python3.10/site-packages (from requests>=2.25.0->spotipy) (3.4)\n",
      "\n",
      "\u001b[1m[\u001b[0m\u001b[34;49mnotice\u001b[0m\u001b[1;39;49m]\u001b[0m\u001b[39;49m A new release of pip is available: \u001b[0m\u001b[31;49m23.0.1\u001b[0m\u001b[39;49m -> \u001b[0m\u001b[32;49m23.3.2\u001b[0m\n",
      "\u001b[1m[\u001b[0m\u001b[34;49mnotice\u001b[0m\u001b[1;39;49m]\u001b[0m\u001b[39;49m To update, run: \u001b[0m\u001b[32;49mpip install --upgrade pip\u001b[0m\n"
     ]
    }
   ],
   "source": [
    "!pip install spotipy"
   ]
  },
  {
   "cell_type": "code",
   "execution_count": 16,
   "metadata": {},
   "outputs": [],
   "source": [
    "import spotipy\n",
    "from spotipy.oauth2 import SpotifyClientCredentials\n",
    "import pandas as pd"
   ]
  },
  {
   "cell_type": "code",
   "execution_count": 17,
   "metadata": {},
   "outputs": [],
   "source": [
    "#add your keys here\n",
    "client_credentials_manager = SpotifyClientCredentials(client_id=\"eb98fbae530e4194b42b0d9acfeec078\", client_secret=\"8af544b63b574a23a5dcc9ff5ffe00bd\")"
   ]
  },
  {
   "cell_type": "code",
   "execution_count": 18,
   "metadata": {},
   "outputs": [],
   "source": [
    "sp = spotipy.Spotify(client_credentials_manager = client_credentials_manager)"
   ]
  },
  {
   "cell_type": "code",
   "execution_count": 55,
   "metadata": {},
   "outputs": [],
   "source": [
    "playlist_link = \"https://open.spotify.com/playlist/37i9dQZEVXbLoATJ81JYXz\""
   ]
  },
  {
   "cell_type": "code",
   "execution_count": 56,
   "metadata": {},
   "outputs": [],
   "source": [
    "playlist_URI = playlist_link.split(\"/\")[-1].split('?')[0]\n"
   ]
  },
  {
   "cell_type": "code",
   "execution_count": 57,
   "metadata": {},
   "outputs": [
    {
     "name": "stderr",
     "output_type": "stream",
     "text": [
      "Couldn't read cache at: .cache\n",
      "Couldn't write token to cache at: .cache\n"
     ]
    }
   ],
   "source": [
    "data = sp.playlist_tracks(playlist_URI)"
   ]
  },
  {
   "cell_type": "code",
   "execution_count": 58,
   "metadata": {},
   "outputs": [
    {
     "data": {
      "text/plain": [
       "'77Od9wwcLw10IjhX2D7srV'"
      ]
     },
     "execution_count": 58,
     "metadata": {},
     "output_type": "execute_result"
    }
   ],
   "source": [
    "data['items'][0]['track']['album']['id']"
   ]
  },
  {
   "cell_type": "code",
   "execution_count": 60,
   "metadata": {},
   "outputs": [
    {
     "data": {
      "text/plain": [
       "'In Memory Of Some Stand Up Guys'"
      ]
     },
     "execution_count": 60,
     "metadata": {},
     "output_type": "execute_result"
    }
   ],
   "source": [
    "data['items'][0]['track']['album']['name']"
   ]
  },
  {
   "cell_type": "code",
   "execution_count": 61,
   "metadata": {},
   "outputs": [
    {
     "data": {
      "text/plain": [
       "'2024-01-05'"
      ]
     },
     "execution_count": 61,
     "metadata": {},
     "output_type": "execute_result"
    }
   ],
   "source": [
    "data['items'][0]['track']['album']['release_date']"
   ]
  },
  {
   "cell_type": "code",
   "execution_count": 62,
   "metadata": {},
   "outputs": [
    {
     "data": {
      "text/plain": [
       "12"
      ]
     },
     "execution_count": 62,
     "metadata": {},
     "output_type": "execute_result"
    }
   ],
   "source": [
    "data['items'][0]['track']['album']['total_tracks']"
   ]
  },
  {
   "cell_type": "code",
   "execution_count": 63,
   "metadata": {},
   "outputs": [
    {
     "data": {
      "text/plain": [
       "'https://open.spotify.com/album/77Od9wwcLw10IjhX2D7srV'"
      ]
     },
     "execution_count": 63,
     "metadata": {},
     "output_type": "execute_result"
    }
   ],
   "source": [
    "data['items'][0]['track']['album']['external_urls']['spotify']"
   ]
  },
  {
   "cell_type": "code",
   "execution_count": 64,
   "metadata": {},
   "outputs": [],
   "source": [
    "album_list = []\n",
    "for row in data['items']:\n",
    "    album_id = row['track']['album']['id']\n",
    "    album_name = row['track']['album']['name']\n",
    "    album_release_date = row['track']['album']['release_date']\n",
    "    album_total_tracks = row['track']['album']['total_tracks']\n",
    "    album_url = row['track']['album']['external_urls']['spotify']\n",
    "    album_element = {'album_id':album_id,'name':album_name,'release_date':album_release_date,\n",
    "                        'total_tracks':album_total_tracks,'url':album_url}\n",
    "    album_list.append(album_element)"
   ]
  },
  {
   "cell_type": "code",
   "execution_count": 65,
   "metadata": {},
   "outputs": [],
   "source": [
    "#album_list"
   ]
  },
  {
   "cell_type": "code",
   "execution_count": 66,
   "metadata": {},
   "outputs": [],
   "source": [
    "#data['items'][0]"
   ]
  },
  {
   "cell_type": "code",
   "execution_count": 67,
   "metadata": {},
   "outputs": [],
   "source": [
    "artist_list = []\n",
    "for row in data['items']:\n",
    "    for key, value in row.items():\n",
    "        if key == \"track\":\n",
    "            for artist in value['artists']:\n",
    "                artist_dict = {'artist_id':artist['id'], 'artist_name':artist['name'], 'external_url': artist['href']}\n",
    "                artist_list.append(artist_dict)"
   ]
  },
  {
   "cell_type": "code",
   "execution_count": 68,
   "metadata": {},
   "outputs": [],
   "source": [
    "#artist_list\n"
   ]
  },
  {
   "cell_type": "code",
   "execution_count": 69,
   "metadata": {},
   "outputs": [],
   "source": [
    "song_list = []\n",
    "for row in data['items']:\n",
    "    song_id = row['track']['id']\n",
    "    song_name = row['track']['name']\n",
    "    song_duration = row['track']['duration_ms']\n",
    "    song_url = row['track']['external_urls']['spotify']\n",
    "    song_popularity = row['track']['popularity']\n",
    "    song_added = row['added_at']\n",
    "    album_id = row['track']['album']['id']\n",
    "    artist_id = row['track']['album']['artists'][0]['id']\n",
    "    song_element = {'song_id':song_id,'song_name':song_name,'duration_ms':song_duration,'url':song_url,\n",
    "                    'popularity':song_popularity,'song_added':song_added,'album_id':album_id,\n",
    "                    'artist_id':artist_id\n",
    "                   }\n",
    "    song_list.append(song_element)"
   ]
  },
  {
   "cell_type": "code",
   "execution_count": 70,
   "metadata": {},
   "outputs": [],
   "source": [
    "album_df = pd.DataFrame.from_dict(album_list)"
   ]
  },
  {
   "cell_type": "code",
   "execution_count": 71,
   "metadata": {},
   "outputs": [
    {
     "data": {
      "text/html": [
       "<div>\n",
       "<style scoped>\n",
       "    .dataframe tbody tr th:only-of-type {\n",
       "        vertical-align: middle;\n",
       "    }\n",
       "\n",
       "    .dataframe tbody tr th {\n",
       "        vertical-align: top;\n",
       "    }\n",
       "\n",
       "    .dataframe thead th {\n",
       "        text-align: right;\n",
       "    }\n",
       "</style>\n",
       "<table border=\"1\" class=\"dataframe\">\n",
       "  <thead>\n",
       "    <tr style=\"text-align: right;\">\n",
       "      <th></th>\n",
       "      <th>album_id</th>\n",
       "      <th>name</th>\n",
       "      <th>release_date</th>\n",
       "      <th>total_tracks</th>\n",
       "      <th>url</th>\n",
       "    </tr>\n",
       "  </thead>\n",
       "  <tbody>\n",
       "    <tr>\n",
       "      <th>0</th>\n",
       "      <td>77Od9wwcLw10IjhX2D7srV</td>\n",
       "      <td>In Memory Of Some Stand Up Guys</td>\n",
       "      <td>2024-01-05</td>\n",
       "      <td>12</td>\n",
       "      <td>https://open.spotify.com/album/77Od9wwcLw10Ijh...</td>\n",
       "    </tr>\n",
       "    <tr>\n",
       "      <th>1</th>\n",
       "      <td>678gU1iWVNcgTstct030O3</td>\n",
       "      <td>Låt Mig Va</td>\n",
       "      <td>2023-12-25</td>\n",
       "      <td>1</td>\n",
       "      <td>https://open.spotify.com/album/678gU1iWVNcgTst...</td>\n",
       "    </tr>\n",
       "    <tr>\n",
       "      <th>2</th>\n",
       "      <td>0Ma4pU6qyMUlk4wl24ncjM</td>\n",
       "      <td>Överallt</td>\n",
       "      <td>2023-11-01</td>\n",
       "      <td>3</td>\n",
       "      <td>https://open.spotify.com/album/0Ma4pU6qyMUlk4w...</td>\n",
       "    </tr>\n",
       "    <tr>\n",
       "      <th>3</th>\n",
       "      <td>2NOivMLIOTEdbnkD6HnnfA</td>\n",
       "      <td>Astronaut - Spotify Singles</td>\n",
       "      <td>2023-12-06</td>\n",
       "      <td>1</td>\n",
       "      <td>https://open.spotify.com/album/2NOivMLIOTEdbnk...</td>\n",
       "    </tr>\n",
       "    <tr>\n",
       "      <th>4</th>\n",
       "      <td>3EQltKEqsH8RLRvEP6sgG6</td>\n",
       "      <td>Bättre nu (The Wedding)</td>\n",
       "      <td>2023-10-28</td>\n",
       "      <td>1</td>\n",
       "      <td>https://open.spotify.com/album/3EQltKEqsH8RLRv...</td>\n",
       "    </tr>\n",
       "  </tbody>\n",
       "</table>\n",
       "</div>"
      ],
      "text/plain": [
       "                 album_id                             name release_date  \\\n",
       "0  77Od9wwcLw10IjhX2D7srV  In Memory Of Some Stand Up Guys   2024-01-05   \n",
       "1  678gU1iWVNcgTstct030O3                       Låt Mig Va   2023-12-25   \n",
       "2  0Ma4pU6qyMUlk4wl24ncjM                         Överallt   2023-11-01   \n",
       "3  2NOivMLIOTEdbnkD6HnnfA      Astronaut - Spotify Singles   2023-12-06   \n",
       "4  3EQltKEqsH8RLRvEP6sgG6          Bättre nu (The Wedding)   2023-10-28   \n",
       "\n",
       "   total_tracks                                                url  \n",
       "0            12  https://open.spotify.com/album/77Od9wwcLw10Ijh...  \n",
       "1             1  https://open.spotify.com/album/678gU1iWVNcgTst...  \n",
       "2             3  https://open.spotify.com/album/0Ma4pU6qyMUlk4w...  \n",
       "3             1  https://open.spotify.com/album/2NOivMLIOTEdbnk...  \n",
       "4             1  https://open.spotify.com/album/3EQltKEqsH8RLRv...  "
      ]
     },
     "execution_count": 71,
     "metadata": {},
     "output_type": "execute_result"
    }
   ],
   "source": [
    "album_df.head()"
   ]
  },
  {
   "cell_type": "code",
   "execution_count": 72,
   "metadata": {},
   "outputs": [],
   "source": [
    "album_df = album_df.drop_duplicates(subset=['album_id'])"
   ]
  },
  {
   "cell_type": "code",
   "execution_count": 73,
   "metadata": {},
   "outputs": [],
   "source": [
    "artist_df = pd.DataFrame.from_dict(artist_list)"
   ]
  },
  {
   "cell_type": "code",
   "execution_count": 74,
   "metadata": {},
   "outputs": [],
   "source": [
    "artist_df = artist_df.drop_duplicates(subset=['artist_id'])"
   ]
  },
  {
   "cell_type": "code",
   "execution_count": 75,
   "metadata": {},
   "outputs": [],
   "source": [
    "#Song Dataframe\n",
    "song_df = pd.DataFrame.from_dict(song_list)"
   ]
  },
  {
   "cell_type": "code",
   "execution_count": 76,
   "metadata": {},
   "outputs": [
    {
     "data": {
      "text/html": [
       "<div>\n",
       "<style scoped>\n",
       "    .dataframe tbody tr th:only-of-type {\n",
       "        vertical-align: middle;\n",
       "    }\n",
       "\n",
       "    .dataframe tbody tr th {\n",
       "        vertical-align: top;\n",
       "    }\n",
       "\n",
       "    .dataframe thead th {\n",
       "        text-align: right;\n",
       "    }\n",
       "</style>\n",
       "<table border=\"1\" class=\"dataframe\">\n",
       "  <thead>\n",
       "    <tr style=\"text-align: right;\">\n",
       "      <th></th>\n",
       "      <th>song_id</th>\n",
       "      <th>song_name</th>\n",
       "      <th>duration_ms</th>\n",
       "      <th>url</th>\n",
       "      <th>popularity</th>\n",
       "      <th>song_added</th>\n",
       "      <th>album_id</th>\n",
       "      <th>artist_id</th>\n",
       "    </tr>\n",
       "  </thead>\n",
       "  <tbody>\n",
       "    <tr>\n",
       "      <th>0</th>\n",
       "      <td>2ZWsuZ6No9BImF61NI1ITw</td>\n",
       "      <td>Svar</td>\n",
       "      <td>161739</td>\n",
       "      <td>https://open.spotify.com/track/2ZWsuZ6No9BImF6...</td>\n",
       "      <td>72</td>\n",
       "      <td>2024-01-18T09:41:41Z</td>\n",
       "      <td>77Od9wwcLw10IjhX2D7srV</td>\n",
       "      <td>6eWjyO1r0QlvsIuIIcgGxI</td>\n",
       "    </tr>\n",
       "    <tr>\n",
       "      <th>1</th>\n",
       "      <td>6Vbgg3C5Qo7olhjIIr1r4e</td>\n",
       "      <td>Låt Mig Va</td>\n",
       "      <td>120834</td>\n",
       "      <td>https://open.spotify.com/track/6Vbgg3C5Qo7olhj...</td>\n",
       "      <td>75</td>\n",
       "      <td>2024-01-18T09:41:41Z</td>\n",
       "      <td>678gU1iWVNcgTstct030O3</td>\n",
       "      <td>55ZGFvikpNjQHvtTWS5aZF</td>\n",
       "    </tr>\n",
       "    <tr>\n",
       "      <th>2</th>\n",
       "      <td>2O5WGi5MYNRSNiT47J5QbH</td>\n",
       "      <td>Överallt</td>\n",
       "      <td>125092</td>\n",
       "      <td>https://open.spotify.com/track/2O5WGi5MYNRSNiT...</td>\n",
       "      <td>71</td>\n",
       "      <td>2024-01-18T09:41:41Z</td>\n",
       "      <td>0Ma4pU6qyMUlk4wl24ncjM</td>\n",
       "      <td>7lKk7yXNockkDjhb1GCeOy</td>\n",
       "    </tr>\n",
       "    <tr>\n",
       "      <th>3</th>\n",
       "      <td>1eHMSmiTLf8aMg4E8N2cgn</td>\n",
       "      <td>Astronaut - Spotify Singles</td>\n",
       "      <td>139054</td>\n",
       "      <td>https://open.spotify.com/track/1eHMSmiTLf8aMg4...</td>\n",
       "      <td>73</td>\n",
       "      <td>2024-01-18T09:41:41Z</td>\n",
       "      <td>2NOivMLIOTEdbnkD6HnnfA</td>\n",
       "      <td>55ZGFvikpNjQHvtTWS5aZF</td>\n",
       "    </tr>\n",
       "    <tr>\n",
       "      <th>4</th>\n",
       "      <td>0L3RpXaOJFNhP4QCynokYG</td>\n",
       "      <td>Bättre nu (The Wedding)</td>\n",
       "      <td>204157</td>\n",
       "      <td>https://open.spotify.com/track/0L3RpXaOJFNhP4Q...</td>\n",
       "      <td>71</td>\n",
       "      <td>2024-01-18T09:41:41Z</td>\n",
       "      <td>3EQltKEqsH8RLRvEP6sgG6</td>\n",
       "      <td>2lLqHBjAnD1QyH24pOPoH6</td>\n",
       "    </tr>\n",
       "  </tbody>\n",
       "</table>\n",
       "</div>"
      ],
      "text/plain": [
       "                  song_id                    song_name  duration_ms  \\\n",
       "0  2ZWsuZ6No9BImF61NI1ITw                         Svar       161739   \n",
       "1  6Vbgg3C5Qo7olhjIIr1r4e                   Låt Mig Va       120834   \n",
       "2  2O5WGi5MYNRSNiT47J5QbH                     Överallt       125092   \n",
       "3  1eHMSmiTLf8aMg4E8N2cgn  Astronaut - Spotify Singles       139054   \n",
       "4  0L3RpXaOJFNhP4QCynokYG      Bättre nu (The Wedding)       204157   \n",
       "\n",
       "                                                 url  popularity  \\\n",
       "0  https://open.spotify.com/track/2ZWsuZ6No9BImF6...          72   \n",
       "1  https://open.spotify.com/track/6Vbgg3C5Qo7olhj...          75   \n",
       "2  https://open.spotify.com/track/2O5WGi5MYNRSNiT...          71   \n",
       "3  https://open.spotify.com/track/1eHMSmiTLf8aMg4...          73   \n",
       "4  https://open.spotify.com/track/0L3RpXaOJFNhP4Q...          71   \n",
       "\n",
       "             song_added                album_id               artist_id  \n",
       "0  2024-01-18T09:41:41Z  77Od9wwcLw10IjhX2D7srV  6eWjyO1r0QlvsIuIIcgGxI  \n",
       "1  2024-01-18T09:41:41Z  678gU1iWVNcgTstct030O3  55ZGFvikpNjQHvtTWS5aZF  \n",
       "2  2024-01-18T09:41:41Z  0Ma4pU6qyMUlk4wl24ncjM  7lKk7yXNockkDjhb1GCeOy  \n",
       "3  2024-01-18T09:41:41Z  2NOivMLIOTEdbnkD6HnnfA  55ZGFvikpNjQHvtTWS5aZF  \n",
       "4  2024-01-18T09:41:41Z  3EQltKEqsH8RLRvEP6sgG6  2lLqHBjAnD1QyH24pOPoH6  "
      ]
     },
     "execution_count": 76,
     "metadata": {},
     "output_type": "execute_result"
    }
   ],
   "source": [
    "song_df.head()"
   ]
  },
  {
   "cell_type": "code",
   "execution_count": 77,
   "metadata": {},
   "outputs": [
    {
     "data": {
      "text/html": [
       "<div>\n",
       "<style scoped>\n",
       "    .dataframe tbody tr th:only-of-type {\n",
       "        vertical-align: middle;\n",
       "    }\n",
       "\n",
       "    .dataframe tbody tr th {\n",
       "        vertical-align: top;\n",
       "    }\n",
       "\n",
       "    .dataframe thead th {\n",
       "        text-align: right;\n",
       "    }\n",
       "</style>\n",
       "<table border=\"1\" class=\"dataframe\">\n",
       "  <thead>\n",
       "    <tr style=\"text-align: right;\">\n",
       "      <th></th>\n",
       "      <th>song_id</th>\n",
       "      <th>song_name</th>\n",
       "      <th>duration_ms</th>\n",
       "      <th>url</th>\n",
       "      <th>popularity</th>\n",
       "      <th>song_added</th>\n",
       "      <th>album_id</th>\n",
       "      <th>artist_id</th>\n",
       "    </tr>\n",
       "  </thead>\n",
       "  <tbody>\n",
       "    <tr>\n",
       "      <th>0</th>\n",
       "      <td>2ZWsuZ6No9BImF61NI1ITw</td>\n",
       "      <td>Svar</td>\n",
       "      <td>161739</td>\n",
       "      <td>https://open.spotify.com/track/2ZWsuZ6No9BImF6...</td>\n",
       "      <td>72</td>\n",
       "      <td>2024-01-18T09:41:41Z</td>\n",
       "      <td>77Od9wwcLw10IjhX2D7srV</td>\n",
       "      <td>6eWjyO1r0QlvsIuIIcgGxI</td>\n",
       "    </tr>\n",
       "    <tr>\n",
       "      <th>1</th>\n",
       "      <td>6Vbgg3C5Qo7olhjIIr1r4e</td>\n",
       "      <td>Låt Mig Va</td>\n",
       "      <td>120834</td>\n",
       "      <td>https://open.spotify.com/track/6Vbgg3C5Qo7olhj...</td>\n",
       "      <td>75</td>\n",
       "      <td>2024-01-18T09:41:41Z</td>\n",
       "      <td>678gU1iWVNcgTstct030O3</td>\n",
       "      <td>55ZGFvikpNjQHvtTWS5aZF</td>\n",
       "    </tr>\n",
       "    <tr>\n",
       "      <th>2</th>\n",
       "      <td>2O5WGi5MYNRSNiT47J5QbH</td>\n",
       "      <td>Överallt</td>\n",
       "      <td>125092</td>\n",
       "      <td>https://open.spotify.com/track/2O5WGi5MYNRSNiT...</td>\n",
       "      <td>71</td>\n",
       "      <td>2024-01-18T09:41:41Z</td>\n",
       "      <td>0Ma4pU6qyMUlk4wl24ncjM</td>\n",
       "      <td>7lKk7yXNockkDjhb1GCeOy</td>\n",
       "    </tr>\n",
       "    <tr>\n",
       "      <th>3</th>\n",
       "      <td>1eHMSmiTLf8aMg4E8N2cgn</td>\n",
       "      <td>Astronaut - Spotify Singles</td>\n",
       "      <td>139054</td>\n",
       "      <td>https://open.spotify.com/track/1eHMSmiTLf8aMg4...</td>\n",
       "      <td>73</td>\n",
       "      <td>2024-01-18T09:41:41Z</td>\n",
       "      <td>2NOivMLIOTEdbnkD6HnnfA</td>\n",
       "      <td>55ZGFvikpNjQHvtTWS5aZF</td>\n",
       "    </tr>\n",
       "    <tr>\n",
       "      <th>4</th>\n",
       "      <td>0L3RpXaOJFNhP4QCynokYG</td>\n",
       "      <td>Bättre nu (The Wedding)</td>\n",
       "      <td>204157</td>\n",
       "      <td>https://open.spotify.com/track/0L3RpXaOJFNhP4Q...</td>\n",
       "      <td>71</td>\n",
       "      <td>2024-01-18T09:41:41Z</td>\n",
       "      <td>3EQltKEqsH8RLRvEP6sgG6</td>\n",
       "      <td>2lLqHBjAnD1QyH24pOPoH6</td>\n",
       "    </tr>\n",
       "  </tbody>\n",
       "</table>\n",
       "</div>"
      ],
      "text/plain": [
       "                  song_id                    song_name  duration_ms  \\\n",
       "0  2ZWsuZ6No9BImF61NI1ITw                         Svar       161739   \n",
       "1  6Vbgg3C5Qo7olhjIIr1r4e                   Låt Mig Va       120834   \n",
       "2  2O5WGi5MYNRSNiT47J5QbH                     Överallt       125092   \n",
       "3  1eHMSmiTLf8aMg4E8N2cgn  Astronaut - Spotify Singles       139054   \n",
       "4  0L3RpXaOJFNhP4QCynokYG      Bättre nu (The Wedding)       204157   \n",
       "\n",
       "                                                 url  popularity  \\\n",
       "0  https://open.spotify.com/track/2ZWsuZ6No9BImF6...          72   \n",
       "1  https://open.spotify.com/track/6Vbgg3C5Qo7olhj...          75   \n",
       "2  https://open.spotify.com/track/2O5WGi5MYNRSNiT...          71   \n",
       "3  https://open.spotify.com/track/1eHMSmiTLf8aMg4...          73   \n",
       "4  https://open.spotify.com/track/0L3RpXaOJFNhP4Q...          71   \n",
       "\n",
       "             song_added                album_id               artist_id  \n",
       "0  2024-01-18T09:41:41Z  77Od9wwcLw10IjhX2D7srV  6eWjyO1r0QlvsIuIIcgGxI  \n",
       "1  2024-01-18T09:41:41Z  678gU1iWVNcgTstct030O3  55ZGFvikpNjQHvtTWS5aZF  \n",
       "2  2024-01-18T09:41:41Z  0Ma4pU6qyMUlk4wl24ncjM  7lKk7yXNockkDjhb1GCeOy  \n",
       "3  2024-01-18T09:41:41Z  2NOivMLIOTEdbnkD6HnnfA  55ZGFvikpNjQHvtTWS5aZF  \n",
       "4  2024-01-18T09:41:41Z  3EQltKEqsH8RLRvEP6sgG6  2lLqHBjAnD1QyH24pOPoH6  "
      ]
     },
     "execution_count": 77,
     "metadata": {},
     "output_type": "execute_result"
    }
   ],
   "source": [
    "song_df.head()"
   ]
  },
  {
   "cell_type": "code",
   "execution_count": 78,
   "metadata": {},
   "outputs": [
    {
     "data": {
      "text/html": [
       "<div>\n",
       "<style scoped>\n",
       "    .dataframe tbody tr th:only-of-type {\n",
       "        vertical-align: middle;\n",
       "    }\n",
       "\n",
       "    .dataframe tbody tr th {\n",
       "        vertical-align: top;\n",
       "    }\n",
       "\n",
       "    .dataframe thead th {\n",
       "        text-align: right;\n",
       "    }\n",
       "</style>\n",
       "<table border=\"1\" class=\"dataframe\">\n",
       "  <thead>\n",
       "    <tr style=\"text-align: right;\">\n",
       "      <th></th>\n",
       "      <th>album_id</th>\n",
       "      <th>name</th>\n",
       "      <th>release_date</th>\n",
       "      <th>total_tracks</th>\n",
       "      <th>url</th>\n",
       "    </tr>\n",
       "  </thead>\n",
       "  <tbody>\n",
       "    <tr>\n",
       "      <th>0</th>\n",
       "      <td>77Od9wwcLw10IjhX2D7srV</td>\n",
       "      <td>In Memory Of Some Stand Up Guys</td>\n",
       "      <td>2024-01-05</td>\n",
       "      <td>12</td>\n",
       "      <td>https://open.spotify.com/album/77Od9wwcLw10Ijh...</td>\n",
       "    </tr>\n",
       "    <tr>\n",
       "      <th>1</th>\n",
       "      <td>678gU1iWVNcgTstct030O3</td>\n",
       "      <td>Låt Mig Va</td>\n",
       "      <td>2023-12-25</td>\n",
       "      <td>1</td>\n",
       "      <td>https://open.spotify.com/album/678gU1iWVNcgTst...</td>\n",
       "    </tr>\n",
       "    <tr>\n",
       "      <th>2</th>\n",
       "      <td>0Ma4pU6qyMUlk4wl24ncjM</td>\n",
       "      <td>Överallt</td>\n",
       "      <td>2023-11-01</td>\n",
       "      <td>3</td>\n",
       "      <td>https://open.spotify.com/album/0Ma4pU6qyMUlk4w...</td>\n",
       "    </tr>\n",
       "    <tr>\n",
       "      <th>3</th>\n",
       "      <td>2NOivMLIOTEdbnkD6HnnfA</td>\n",
       "      <td>Astronaut - Spotify Singles</td>\n",
       "      <td>2023-12-06</td>\n",
       "      <td>1</td>\n",
       "      <td>https://open.spotify.com/album/2NOivMLIOTEdbnk...</td>\n",
       "    </tr>\n",
       "    <tr>\n",
       "      <th>4</th>\n",
       "      <td>3EQltKEqsH8RLRvEP6sgG6</td>\n",
       "      <td>Bättre nu (The Wedding)</td>\n",
       "      <td>2023-10-28</td>\n",
       "      <td>1</td>\n",
       "      <td>https://open.spotify.com/album/3EQltKEqsH8RLRv...</td>\n",
       "    </tr>\n",
       "  </tbody>\n",
       "</table>\n",
       "</div>"
      ],
      "text/plain": [
       "                 album_id                             name release_date  \\\n",
       "0  77Od9wwcLw10IjhX2D7srV  In Memory Of Some Stand Up Guys   2024-01-05   \n",
       "1  678gU1iWVNcgTstct030O3                       Låt Mig Va   2023-12-25   \n",
       "2  0Ma4pU6qyMUlk4wl24ncjM                         Överallt   2023-11-01   \n",
       "3  2NOivMLIOTEdbnkD6HnnfA      Astronaut - Spotify Singles   2023-12-06   \n",
       "4  3EQltKEqsH8RLRvEP6sgG6          Bättre nu (The Wedding)   2023-10-28   \n",
       "\n",
       "   total_tracks                                                url  \n",
       "0            12  https://open.spotify.com/album/77Od9wwcLw10Ijh...  \n",
       "1             1  https://open.spotify.com/album/678gU1iWVNcgTst...  \n",
       "2             3  https://open.spotify.com/album/0Ma4pU6qyMUlk4w...  \n",
       "3             1  https://open.spotify.com/album/2NOivMLIOTEdbnk...  \n",
       "4             1  https://open.spotify.com/album/3EQltKEqsH8RLRv...  "
      ]
     },
     "execution_count": 78,
     "metadata": {},
     "output_type": "execute_result"
    }
   ],
   "source": [
    "album_df.head()"
   ]
  },
  {
   "cell_type": "code",
   "execution_count": 79,
   "metadata": {},
   "outputs": [],
   "source": [
    "album_df['release_date'] = pd.to_datetime(album_df['release_date'])"
   ]
  },
  {
   "cell_type": "code",
   "execution_count": 80,
   "metadata": {},
   "outputs": [],
   "source": [
    "song_df['song_added'] =  pd.to_datetime(song_df['song_added'])"
   ]
  },
  {
   "cell_type": "code",
   "execution_count": 81,
   "metadata": {},
   "outputs": [
    {
     "name": "stdout",
     "output_type": "stream",
     "text": [
      "<class 'pandas.core.frame.DataFrame'>\n",
      "RangeIndex: 50 entries, 0 to 49\n",
      "Data columns (total 8 columns):\n",
      " #   Column       Non-Null Count  Dtype              \n",
      "---  ------       --------------  -----              \n",
      " 0   song_id      50 non-null     object             \n",
      " 1   song_name    50 non-null     object             \n",
      " 2   duration_ms  50 non-null     int64              \n",
      " 3   url          50 non-null     object             \n",
      " 4   popularity   50 non-null     int64              \n",
      " 5   song_added   50 non-null     datetime64[ns, UTC]\n",
      " 6   album_id     50 non-null     object             \n",
      " 7   artist_id    50 non-null     object             \n",
      "dtypes: datetime64[ns, UTC](1), int64(2), object(5)\n",
      "memory usage: 3.2+ KB\n"
     ]
    }
   ],
   "source": [
    "song_df.info()"
   ]
  },
  {
   "cell_type": "code",
   "execution_count": null,
   "metadata": {},
   "outputs": [],
   "source": []
  },
  {
   "cell_type": "code",
   "execution_count": null,
   "metadata": {},
   "outputs": [],
   "source": []
  }
 ],
 "metadata": {
  "kernelspec": {
   "display_name": "base",
   "language": "python",
   "name": "python3"
  },
  "language_info": {
   "codemirror_mode": {
    "name": "ipython",
    "version": 3
   },
   "file_extension": ".py",
   "mimetype": "text/x-python",
   "name": "python",
   "nbconvert_exporter": "python",
   "pygments_lexer": "ipython3",
   "version": "3.10.9"
  }
 },
 "nbformat": 4,
 "nbformat_minor": 2
}
